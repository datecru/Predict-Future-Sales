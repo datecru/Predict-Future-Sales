{
  "nbformat": 4,
  "nbformat_minor": 0,
  "metadata": {
    "colab": {
      "provenance": [],
      "authorship_tag": "ABX9TyNRXYh3fNodCyrp4zhbt0FE",
      "include_colab_link": true
    },
    "kernelspec": {
      "name": "python3",
      "display_name": "Python 3"
    },
    "language_info": {
      "name": "python"
    }
  },
  "cells": [
    {
      "cell_type": "markdown",
      "metadata": {
        "id": "view-in-github",
        "colab_type": "text"
      },
      "source": [
        "<a href=\"https://colab.research.google.com/github/datecru/Predict-Future-Sales/blob/main/Predict_Future_Sales.ipynb\" target=\"_parent\"><img src=\"https://colab.research.google.com/assets/colab-badge.svg\" alt=\"Open In Colab\"/></a>"
      ]
    },
    {
      "cell_type": "markdown",
      "source": [
        "#Install libraries"
      ],
      "metadata": {
        "id": "uh3O5gbvyFIq"
      }
    },
    {
      "cell_type": "code",
      "execution_count": 1,
      "metadata": {
        "colab": {
          "base_uri": "https://localhost:8080/"
        },
        "collapsed": true,
        "id": "b2eTR98GsWxH",
        "outputId": "13cc29a8-b511-469b-9bd6-6f0eb9e9b2e9"
      },
      "outputs": [
        {
          "output_type": "stream",
          "name": "stdout",
          "text": [
            "Requirement already satisfied: numpy in /usr/local/lib/python3.10/dist-packages (1.25.2)\n",
            "Requirement already satisfied: pandas in /usr/local/lib/python3.10/dist-packages (2.0.3)\n",
            "Requirement already satisfied: python-dateutil>=2.8.2 in /usr/local/lib/python3.10/dist-packages (from pandas) (2.8.2)\n",
            "Requirement already satisfied: pytz>=2020.1 in /usr/local/lib/python3.10/dist-packages (from pandas) (2023.4)\n",
            "Requirement already satisfied: tzdata>=2022.1 in /usr/local/lib/python3.10/dist-packages (from pandas) (2024.1)\n",
            "Requirement already satisfied: numpy>=1.21.0 in /usr/local/lib/python3.10/dist-packages (from pandas) (1.25.2)\n",
            "Requirement already satisfied: six>=1.5 in /usr/local/lib/python3.10/dist-packages (from python-dateutil>=2.8.2->pandas) (1.16.0)\n",
            "Requirement already satisfied: matplotlib in /usr/local/lib/python3.10/dist-packages (3.7.1)\n",
            "Requirement already satisfied: contourpy>=1.0.1 in /usr/local/lib/python3.10/dist-packages (from matplotlib) (1.2.1)\n",
            "Requirement already satisfied: cycler>=0.10 in /usr/local/lib/python3.10/dist-packages (from matplotlib) (0.12.1)\n",
            "Requirement already satisfied: fonttools>=4.22.0 in /usr/local/lib/python3.10/dist-packages (from matplotlib) (4.53.1)\n",
            "Requirement already satisfied: kiwisolver>=1.0.1 in /usr/local/lib/python3.10/dist-packages (from matplotlib) (1.4.5)\n",
            "Requirement already satisfied: numpy>=1.20 in /usr/local/lib/python3.10/dist-packages (from matplotlib) (1.25.2)\n",
            "Requirement already satisfied: packaging>=20.0 in /usr/local/lib/python3.10/dist-packages (from matplotlib) (24.1)\n",
            "Requirement already satisfied: pillow>=6.2.0 in /usr/local/lib/python3.10/dist-packages (from matplotlib) (9.4.0)\n",
            "Requirement already satisfied: pyparsing>=2.3.1 in /usr/local/lib/python3.10/dist-packages (from matplotlib) (3.1.2)\n",
            "Requirement already satisfied: python-dateutil>=2.7 in /usr/local/lib/python3.10/dist-packages (from matplotlib) (2.8.2)\n",
            "Requirement already satisfied: six>=1.5 in /usr/local/lib/python3.10/dist-packages (from python-dateutil>=2.7->matplotlib) (1.16.0)\n",
            "Requirement already satisfied: scikit-learn in /usr/local/lib/python3.10/dist-packages (1.2.2)\n",
            "Requirement already satisfied: numpy>=1.17.3 in /usr/local/lib/python3.10/dist-packages (from scikit-learn) (1.25.2)\n",
            "Requirement already satisfied: scipy>=1.3.2 in /usr/local/lib/python3.10/dist-packages (from scikit-learn) (1.11.4)\n",
            "Requirement already satisfied: joblib>=1.1.1 in /usr/local/lib/python3.10/dist-packages (from scikit-learn) (1.4.2)\n",
            "Requirement already satisfied: threadpoolctl>=2.0.0 in /usr/local/lib/python3.10/dist-packages (from scikit-learn) (3.5.0)\n",
            "Requirement already satisfied: tensorflow in /usr/local/lib/python3.10/dist-packages (2.15.0)\n",
            "Requirement already satisfied: absl-py>=1.0.0 in /usr/local/lib/python3.10/dist-packages (from tensorflow) (1.4.0)\n",
            "Requirement already satisfied: astunparse>=1.6.0 in /usr/local/lib/python3.10/dist-packages (from tensorflow) (1.6.3)\n",
            "Requirement already satisfied: flatbuffers>=23.5.26 in /usr/local/lib/python3.10/dist-packages (from tensorflow) (24.3.25)\n",
            "Requirement already satisfied: gast!=0.5.0,!=0.5.1,!=0.5.2,>=0.2.1 in /usr/local/lib/python3.10/dist-packages (from tensorflow) (0.6.0)\n",
            "Requirement already satisfied: google-pasta>=0.1.1 in /usr/local/lib/python3.10/dist-packages (from tensorflow) (0.2.0)\n",
            "Requirement already satisfied: h5py>=2.9.0 in /usr/local/lib/python3.10/dist-packages (from tensorflow) (3.9.0)\n",
            "Requirement already satisfied: libclang>=13.0.0 in /usr/local/lib/python3.10/dist-packages (from tensorflow) (18.1.1)\n",
            "Requirement already satisfied: ml-dtypes~=0.2.0 in /usr/local/lib/python3.10/dist-packages (from tensorflow) (0.2.0)\n",
            "Requirement already satisfied: numpy<2.0.0,>=1.23.5 in /usr/local/lib/python3.10/dist-packages (from tensorflow) (1.25.2)\n",
            "Requirement already satisfied: opt-einsum>=2.3.2 in /usr/local/lib/python3.10/dist-packages (from tensorflow) (3.3.0)\n",
            "Requirement already satisfied: packaging in /usr/local/lib/python3.10/dist-packages (from tensorflow) (24.1)\n",
            "Requirement already satisfied: protobuf!=4.21.0,!=4.21.1,!=4.21.2,!=4.21.3,!=4.21.4,!=4.21.5,<5.0.0dev,>=3.20.3 in /usr/local/lib/python3.10/dist-packages (from tensorflow) (3.20.3)\n",
            "Requirement already satisfied: setuptools in /usr/local/lib/python3.10/dist-packages (from tensorflow) (71.0.4)\n",
            "Requirement already satisfied: six>=1.12.0 in /usr/local/lib/python3.10/dist-packages (from tensorflow) (1.16.0)\n",
            "Requirement already satisfied: termcolor>=1.1.0 in /usr/local/lib/python3.10/dist-packages (from tensorflow) (2.4.0)\n",
            "Requirement already satisfied: typing-extensions>=3.6.6 in /usr/local/lib/python3.10/dist-packages (from tensorflow) (4.12.2)\n",
            "Requirement already satisfied: wrapt<1.15,>=1.11.0 in /usr/local/lib/python3.10/dist-packages (from tensorflow) (1.14.1)\n",
            "Requirement already satisfied: tensorflow-io-gcs-filesystem>=0.23.1 in /usr/local/lib/python3.10/dist-packages (from tensorflow) (0.37.1)\n",
            "Requirement already satisfied: grpcio<2.0,>=1.24.3 in /usr/local/lib/python3.10/dist-packages (from tensorflow) (1.64.1)\n",
            "Requirement already satisfied: tensorboard<2.16,>=2.15 in /usr/local/lib/python3.10/dist-packages (from tensorflow) (2.15.2)\n",
            "Requirement already satisfied: tensorflow-estimator<2.16,>=2.15.0 in /usr/local/lib/python3.10/dist-packages (from tensorflow) (2.15.0)\n",
            "Requirement already satisfied: keras<2.16,>=2.15.0 in /usr/local/lib/python3.10/dist-packages (from tensorflow) (2.15.0)\n",
            "Requirement already satisfied: wheel<1.0,>=0.23.0 in /usr/local/lib/python3.10/dist-packages (from astunparse>=1.6.0->tensorflow) (0.43.0)\n",
            "Requirement already satisfied: google-auth<3,>=1.6.3 in /usr/local/lib/python3.10/dist-packages (from tensorboard<2.16,>=2.15->tensorflow) (2.27.0)\n",
            "Requirement already satisfied: google-auth-oauthlib<2,>=0.5 in /usr/local/lib/python3.10/dist-packages (from tensorboard<2.16,>=2.15->tensorflow) (1.2.1)\n",
            "Requirement already satisfied: markdown>=2.6.8 in /usr/local/lib/python3.10/dist-packages (from tensorboard<2.16,>=2.15->tensorflow) (3.6)\n",
            "Requirement already satisfied: requests<3,>=2.21.0 in /usr/local/lib/python3.10/dist-packages (from tensorboard<2.16,>=2.15->tensorflow) (2.31.0)\n",
            "Requirement already satisfied: tensorboard-data-server<0.8.0,>=0.7.0 in /usr/local/lib/python3.10/dist-packages (from tensorboard<2.16,>=2.15->tensorflow) (0.7.2)\n",
            "Requirement already satisfied: werkzeug>=1.0.1 in /usr/local/lib/python3.10/dist-packages (from tensorboard<2.16,>=2.15->tensorflow) (3.0.3)\n",
            "Requirement already satisfied: cachetools<6.0,>=2.0.0 in /usr/local/lib/python3.10/dist-packages (from google-auth<3,>=1.6.3->tensorboard<2.16,>=2.15->tensorflow) (5.4.0)\n",
            "Requirement already satisfied: pyasn1-modules>=0.2.1 in /usr/local/lib/python3.10/dist-packages (from google-auth<3,>=1.6.3->tensorboard<2.16,>=2.15->tensorflow) (0.4.0)\n",
            "Requirement already satisfied: rsa<5,>=3.1.4 in /usr/local/lib/python3.10/dist-packages (from google-auth<3,>=1.6.3->tensorboard<2.16,>=2.15->tensorflow) (4.9)\n",
            "Requirement already satisfied: requests-oauthlib>=0.7.0 in /usr/local/lib/python3.10/dist-packages (from google-auth-oauthlib<2,>=0.5->tensorboard<2.16,>=2.15->tensorflow) (1.3.1)\n",
            "Requirement already satisfied: charset-normalizer<4,>=2 in /usr/local/lib/python3.10/dist-packages (from requests<3,>=2.21.0->tensorboard<2.16,>=2.15->tensorflow) (3.3.2)\n",
            "Requirement already satisfied: idna<4,>=2.5 in /usr/local/lib/python3.10/dist-packages (from requests<3,>=2.21.0->tensorboard<2.16,>=2.15->tensorflow) (3.7)\n",
            "Requirement already satisfied: urllib3<3,>=1.21.1 in /usr/local/lib/python3.10/dist-packages (from requests<3,>=2.21.0->tensorboard<2.16,>=2.15->tensorflow) (2.0.7)\n",
            "Requirement already satisfied: certifi>=2017.4.17 in /usr/local/lib/python3.10/dist-packages (from requests<3,>=2.21.0->tensorboard<2.16,>=2.15->tensorflow) (2024.7.4)\n",
            "Requirement already satisfied: MarkupSafe>=2.1.1 in /usr/local/lib/python3.10/dist-packages (from werkzeug>=1.0.1->tensorboard<2.16,>=2.15->tensorflow) (2.1.5)\n",
            "Requirement already satisfied: pyasn1<0.7.0,>=0.4.6 in /usr/local/lib/python3.10/dist-packages (from pyasn1-modules>=0.2.1->google-auth<3,>=1.6.3->tensorboard<2.16,>=2.15->tensorflow) (0.6.0)\n",
            "Requirement already satisfied: oauthlib>=3.0.0 in /usr/local/lib/python3.10/dist-packages (from requests-oauthlib>=0.7.0->google-auth-oauthlib<2,>=0.5->tensorboard<2.16,>=2.15->tensorflow) (3.2.2)\n",
            "Requirement already satisfied: seaborn in /usr/local/lib/python3.10/dist-packages (0.13.1)\n",
            "Requirement already satisfied: numpy!=1.24.0,>=1.20 in /usr/local/lib/python3.10/dist-packages (from seaborn) (1.25.2)\n",
            "Requirement already satisfied: pandas>=1.2 in /usr/local/lib/python3.10/dist-packages (from seaborn) (2.0.3)\n",
            "Requirement already satisfied: matplotlib!=3.6.1,>=3.4 in /usr/local/lib/python3.10/dist-packages (from seaborn) (3.7.1)\n",
            "Requirement already satisfied: contourpy>=1.0.1 in /usr/local/lib/python3.10/dist-packages (from matplotlib!=3.6.1,>=3.4->seaborn) (1.2.1)\n",
            "Requirement already satisfied: cycler>=0.10 in /usr/local/lib/python3.10/dist-packages (from matplotlib!=3.6.1,>=3.4->seaborn) (0.12.1)\n",
            "Requirement already satisfied: fonttools>=4.22.0 in /usr/local/lib/python3.10/dist-packages (from matplotlib!=3.6.1,>=3.4->seaborn) (4.53.1)\n",
            "Requirement already satisfied: kiwisolver>=1.0.1 in /usr/local/lib/python3.10/dist-packages (from matplotlib!=3.6.1,>=3.4->seaborn) (1.4.5)\n",
            "Requirement already satisfied: packaging>=20.0 in /usr/local/lib/python3.10/dist-packages (from matplotlib!=3.6.1,>=3.4->seaborn) (24.1)\n",
            "Requirement already satisfied: pillow>=6.2.0 in /usr/local/lib/python3.10/dist-packages (from matplotlib!=3.6.1,>=3.4->seaborn) (9.4.0)\n",
            "Requirement already satisfied: pyparsing>=2.3.1 in /usr/local/lib/python3.10/dist-packages (from matplotlib!=3.6.1,>=3.4->seaborn) (3.1.2)\n",
            "Requirement already satisfied: python-dateutil>=2.7 in /usr/local/lib/python3.10/dist-packages (from matplotlib!=3.6.1,>=3.4->seaborn) (2.8.2)\n",
            "Requirement already satisfied: pytz>=2020.1 in /usr/local/lib/python3.10/dist-packages (from pandas>=1.2->seaborn) (2023.4)\n",
            "Requirement already satisfied: tzdata>=2022.1 in /usr/local/lib/python3.10/dist-packages (from pandas>=1.2->seaborn) (2024.1)\n",
            "Requirement already satisfied: six>=1.5 in /usr/local/lib/python3.10/dist-packages (from python-dateutil>=2.7->matplotlib!=3.6.1,>=3.4->seaborn) (1.16.0)\n"
          ]
        }
      ],
      "source": [
        "!pip install numpy\n",
        "!pip install pandas\n",
        "!pip install matplotlib\n",
        "!pip install scikit-learn\n",
        "!pip install tensorflow\n",
        "!pip install seaborn"
      ]
    },
    {
      "cell_type": "markdown",
      "source": [
        "import libraries"
      ],
      "metadata": {
        "id": "TeTSb0X22V9J"
      }
    },
    {
      "cell_type": "code",
      "source": [
        "import numpy as np\n",
        "import pandas as pd\n",
        "import matplotlib.pyplot as plt\n",
        "import seaborn as sns\n",
        "import tensorflow as tf\n",
        "from sklearn.model_selection import train_test_split\n",
        "from sklearn.preprocessing import StandardScaler\n",
        "from sklearn.metrics import mean_squared_error\n",
        "from tensorflow.keras.models import Sequential\n",
        "from tensorflow.keras.layers import Dense\n",
        "from tensorflow.keras.optimizers import Adam"
      ],
      "metadata": {
        "id": "UarTfxDuyK-r"
      },
      "execution_count": 2,
      "outputs": []
    },
    {
      "cell_type": "markdown",
      "source": [
        "load the dataset"
      ],
      "metadata": {
        "id": "8-M6N3Ye2Ytl"
      }
    },
    {
      "cell_type": "code",
      "source": [
        "from google.colab import files\n",
        "uploaded = files.upload()"
      ],
      "metadata": {
        "colab": {
          "base_uri": "https://localhost:8080/",
          "height": 212
        },
        "id": "M6l5nZCw2U2v",
        "outputId": "16c07b3a-1e57-4db2-8c4e-00eb38e19a79"
      },
      "execution_count": 3,
      "outputs": [
        {
          "output_type": "display_data",
          "data": {
            "text/plain": [
              "<IPython.core.display.HTML object>"
            ],
            "text/html": [
              "\n",
              "     <input type=\"file\" id=\"files-a6f32daf-a6a4-445d-a187-b57e6923d5c2\" name=\"files[]\" multiple disabled\n",
              "        style=\"border:none\" />\n",
              "     <output id=\"result-a6f32daf-a6a4-445d-a187-b57e6923d5c2\">\n",
              "      Upload widget is only available when the cell has been executed in the\n",
              "      current browser session. Please rerun this cell to enable.\n",
              "      </output>\n",
              "      <script>// Copyright 2017 Google LLC\n",
              "//\n",
              "// Licensed under the Apache License, Version 2.0 (the \"License\");\n",
              "// you may not use this file except in compliance with the License.\n",
              "// You may obtain a copy of the License at\n",
              "//\n",
              "//      http://www.apache.org/licenses/LICENSE-2.0\n",
              "//\n",
              "// Unless required by applicable law or agreed to in writing, software\n",
              "// distributed under the License is distributed on an \"AS IS\" BASIS,\n",
              "// WITHOUT WARRANTIES OR CONDITIONS OF ANY KIND, either express or implied.\n",
              "// See the License for the specific language governing permissions and\n",
              "// limitations under the License.\n",
              "\n",
              "/**\n",
              " * @fileoverview Helpers for google.colab Python module.\n",
              " */\n",
              "(function(scope) {\n",
              "function span(text, styleAttributes = {}) {\n",
              "  const element = document.createElement('span');\n",
              "  element.textContent = text;\n",
              "  for (const key of Object.keys(styleAttributes)) {\n",
              "    element.style[key] = styleAttributes[key];\n",
              "  }\n",
              "  return element;\n",
              "}\n",
              "\n",
              "// Max number of bytes which will be uploaded at a time.\n",
              "const MAX_PAYLOAD_SIZE = 100 * 1024;\n",
              "\n",
              "function _uploadFiles(inputId, outputId) {\n",
              "  const steps = uploadFilesStep(inputId, outputId);\n",
              "  const outputElement = document.getElementById(outputId);\n",
              "  // Cache steps on the outputElement to make it available for the next call\n",
              "  // to uploadFilesContinue from Python.\n",
              "  outputElement.steps = steps;\n",
              "\n",
              "  return _uploadFilesContinue(outputId);\n",
              "}\n",
              "\n",
              "// This is roughly an async generator (not supported in the browser yet),\n",
              "// where there are multiple asynchronous steps and the Python side is going\n",
              "// to poll for completion of each step.\n",
              "// This uses a Promise to block the python side on completion of each step,\n",
              "// then passes the result of the previous step as the input to the next step.\n",
              "function _uploadFilesContinue(outputId) {\n",
              "  const outputElement = document.getElementById(outputId);\n",
              "  const steps = outputElement.steps;\n",
              "\n",
              "  const next = steps.next(outputElement.lastPromiseValue);\n",
              "  return Promise.resolve(next.value.promise).then((value) => {\n",
              "    // Cache the last promise value to make it available to the next\n",
              "    // step of the generator.\n",
              "    outputElement.lastPromiseValue = value;\n",
              "    return next.value.response;\n",
              "  });\n",
              "}\n",
              "\n",
              "/**\n",
              " * Generator function which is called between each async step of the upload\n",
              " * process.\n",
              " * @param {string} inputId Element ID of the input file picker element.\n",
              " * @param {string} outputId Element ID of the output display.\n",
              " * @return {!Iterable<!Object>} Iterable of next steps.\n",
              " */\n",
              "function* uploadFilesStep(inputId, outputId) {\n",
              "  const inputElement = document.getElementById(inputId);\n",
              "  inputElement.disabled = false;\n",
              "\n",
              "  const outputElement = document.getElementById(outputId);\n",
              "  outputElement.innerHTML = '';\n",
              "\n",
              "  const pickedPromise = new Promise((resolve) => {\n",
              "    inputElement.addEventListener('change', (e) => {\n",
              "      resolve(e.target.files);\n",
              "    });\n",
              "  });\n",
              "\n",
              "  const cancel = document.createElement('button');\n",
              "  inputElement.parentElement.appendChild(cancel);\n",
              "  cancel.textContent = 'Cancel upload';\n",
              "  const cancelPromise = new Promise((resolve) => {\n",
              "    cancel.onclick = () => {\n",
              "      resolve(null);\n",
              "    };\n",
              "  });\n",
              "\n",
              "  // Wait for the user to pick the files.\n",
              "  const files = yield {\n",
              "    promise: Promise.race([pickedPromise, cancelPromise]),\n",
              "    response: {\n",
              "      action: 'starting',\n",
              "    }\n",
              "  };\n",
              "\n",
              "  cancel.remove();\n",
              "\n",
              "  // Disable the input element since further picks are not allowed.\n",
              "  inputElement.disabled = true;\n",
              "\n",
              "  if (!files) {\n",
              "    return {\n",
              "      response: {\n",
              "        action: 'complete',\n",
              "      }\n",
              "    };\n",
              "  }\n",
              "\n",
              "  for (const file of files) {\n",
              "    const li = document.createElement('li');\n",
              "    li.append(span(file.name, {fontWeight: 'bold'}));\n",
              "    li.append(span(\n",
              "        `(${file.type || 'n/a'}) - ${file.size} bytes, ` +\n",
              "        `last modified: ${\n",
              "            file.lastModifiedDate ? file.lastModifiedDate.toLocaleDateString() :\n",
              "                                    'n/a'} - `));\n",
              "    const percent = span('0% done');\n",
              "    li.appendChild(percent);\n",
              "\n",
              "    outputElement.appendChild(li);\n",
              "\n",
              "    const fileDataPromise = new Promise((resolve) => {\n",
              "      const reader = new FileReader();\n",
              "      reader.onload = (e) => {\n",
              "        resolve(e.target.result);\n",
              "      };\n",
              "      reader.readAsArrayBuffer(file);\n",
              "    });\n",
              "    // Wait for the data to be ready.\n",
              "    let fileData = yield {\n",
              "      promise: fileDataPromise,\n",
              "      response: {\n",
              "        action: 'continue',\n",
              "      }\n",
              "    };\n",
              "\n",
              "    // Use a chunked sending to avoid message size limits. See b/62115660.\n",
              "    let position = 0;\n",
              "    do {\n",
              "      const length = Math.min(fileData.byteLength - position, MAX_PAYLOAD_SIZE);\n",
              "      const chunk = new Uint8Array(fileData, position, length);\n",
              "      position += length;\n",
              "\n",
              "      const base64 = btoa(String.fromCharCode.apply(null, chunk));\n",
              "      yield {\n",
              "        response: {\n",
              "          action: 'append',\n",
              "          file: file.name,\n",
              "          data: base64,\n",
              "        },\n",
              "      };\n",
              "\n",
              "      let percentDone = fileData.byteLength === 0 ?\n",
              "          100 :\n",
              "          Math.round((position / fileData.byteLength) * 100);\n",
              "      percent.textContent = `${percentDone}% done`;\n",
              "\n",
              "    } while (position < fileData.byteLength);\n",
              "  }\n",
              "\n",
              "  // All done.\n",
              "  yield {\n",
              "    response: {\n",
              "      action: 'complete',\n",
              "    }\n",
              "  };\n",
              "}\n",
              "\n",
              "scope.google = scope.google || {};\n",
              "scope.google.colab = scope.google.colab || {};\n",
              "scope.google.colab._files = {\n",
              "  _uploadFiles,\n",
              "  _uploadFilesContinue,\n",
              "};\n",
              "})(self);\n",
              "</script> "
            ]
          },
          "metadata": {}
        },
        {
          "output_type": "stream",
          "name": "stdout",
          "text": [
            "Saving shops.csv to shops.csv\n",
            "Saving test.csv to test.csv\n",
            "Saving sales_train.csv to sales_train.csv\n",
            "Saving item_categories.csv to item_categories.csv\n",
            "Saving items.csv to items.csv\n"
          ]
        }
      ]
    },
    {
      "cell_type": "markdown",
      "source": [
        "Read the files and give a name on the program"
      ],
      "metadata": {
        "id": "7p0usKSa4X63"
      }
    },
    {
      "cell_type": "code",
      "source": [
        "df_prices = pd.read_csv('sales_train.csv')\n",
        "df_shop = pd.read_csv('shops.csv')\n",
        "df_categories = pd.read_csv('item_categories.csv')\n",
        "df_items = pd.read_csv('items.csv')\n",
        "df_test = pd.read_csv('test.csv')"
      ],
      "metadata": {
        "id": "EUj9QZ7d4eL9"
      },
      "execution_count": 4,
      "outputs": []
    },
    {
      "cell_type": "markdown",
      "source": [
        "Visualize the dataset"
      ],
      "metadata": {
        "id": "E86BDXdi6tnJ"
      }
    },
    {
      "cell_type": "code",
      "source": [
        "print(df_prices.head())\n",
        "print(df_shop.head())\n",
        "print(df_categories.head())\n",
        "print(df_items.head())\n",
        "print(df_test.head())"
      ],
      "metadata": {
        "colab": {
          "base_uri": "https://localhost:8080/"
        },
        "id": "Xn3FFobx665y",
        "outputId": "31b7f7fe-54ee-46ec-e98f-8f21545070c2"
      },
      "execution_count": 5,
      "outputs": [
        {
          "output_type": "stream",
          "name": "stdout",
          "text": [
            "         date  date_block_num  shop_id  item_id  item_price  item_cnt_day\n",
            "0  02.01.2013               0       59    22154      999.00           1.0\n",
            "1  03.01.2013               0       25     2552      899.00           1.0\n",
            "2  05.01.2013               0       25     2552      899.00          -1.0\n",
            "3  06.01.2013               0       25     2554     1709.05           1.0\n",
            "4  15.01.2013               0       25     2555     1099.00           1.0\n",
            "                        shop_name  shop_id\n",
            "0   !Якутск Орджоникидзе, 56 фран        0\n",
            "1   !Якутск ТЦ \"Центральный\" фран        1\n",
            "2                Адыгея ТЦ \"Мега\"        2\n",
            "3  Балашиха ТРК \"Октябрь-Киномир\"        3\n",
            "4        Волжский ТЦ \"Волга Молл\"        4\n",
            "        item_category_name  item_category_id\n",
            "0  PC - Гарнитуры/Наушники                 0\n",
            "1         Аксессуары - PS2                 1\n",
            "2         Аксессуары - PS3                 2\n",
            "3         Аксессуары - PS4                 3\n",
            "4         Аксессуары - PSP                 4\n",
            "                                           item_name  item_id  \\\n",
            "0          ! ВО ВЛАСТИ НАВАЖДЕНИЯ (ПЛАСТ.)         D        0   \n",
            "1  !ABBYY FineReader 12 Professional Edition Full...        1   \n",
            "2      ***В ЛУЧАХ СЛАВЫ   (UNV)                    D        2   \n",
            "3    ***ГОЛУБАЯ ВОЛНА  (Univ)                      D        3   \n",
            "4        ***КОРОБКА (СТЕКЛО)                       D        4   \n",
            "\n",
            "   item_category_id  \n",
            "0                40  \n",
            "1                76  \n",
            "2                40  \n",
            "3                40  \n",
            "4                40  \n",
            "   ID  shop_id  item_id\n",
            "0   0        5     5037\n",
            "1   1        5     5320\n",
            "2   2        5     5233\n",
            "3   3        5     5232\n",
            "4   4        5     5268\n"
          ]
        }
      ]
    },
    {
      "cell_type": "markdown",
      "source": [
        "Convert the date on a correct format"
      ],
      "metadata": {
        "id": "oR3B3klD777J"
      }
    },
    {
      "cell_type": "code",
      "source": [
        "df_prices['date'] = pd.to_datetime(df_prices['date'], format='%d.%m.%Y')\n",
        "print(df_prices.info)"
      ],
      "metadata": {
        "colab": {
          "base_uri": "https://localhost:8080/"
        },
        "id": "ytjGy4Qp8Lrj",
        "outputId": "7732f166-8240-43f2-870e-34f49f663932"
      },
      "execution_count": 6,
      "outputs": [
        {
          "output_type": "stream",
          "name": "stdout",
          "text": [
            "<bound method DataFrame.info of               date  date_block_num  shop_id  item_id  item_price  item_cnt_day\n",
            "0       2013-01-02               0       59    22154      999.00           1.0\n",
            "1       2013-01-03               0       25     2552      899.00           1.0\n",
            "2       2013-01-05               0       25     2552      899.00          -1.0\n",
            "3       2013-01-06               0       25     2554     1709.05           1.0\n",
            "4       2013-01-15               0       25     2555     1099.00           1.0\n",
            "...            ...             ...      ...      ...         ...           ...\n",
            "2935844 2015-10-10              33       25     7409      299.00           1.0\n",
            "2935845 2015-10-09              33       25     7460      299.00           1.0\n",
            "2935846 2015-10-14              33       25     7459      349.00           1.0\n",
            "2935847 2015-10-22              33       25     7440      299.00           1.0\n",
            "2935848 2015-10-03              33       25     7460      299.00           1.0\n",
            "\n",
            "[2935849 rows x 6 columns]>\n"
          ]
        }
      ]
    },
    {
      "cell_type": "markdown",
      "source": [
        "look for a missing data a fix it and verify"
      ],
      "metadata": {
        "id": "KOQWTt6y81Ha"
      }
    },
    {
      "cell_type": "code",
      "source": [
        "print(df_prices.isnull().sum())\n",
        "print(df_shop.isnull().sum())\n",
        "print(df_categories.isnull().sum())\n",
        "print(df_items.isnull().sum())\n",
        "\n",
        "\n",
        "df_prices.dropna(inplace=True)\n",
        "df_shop.dropna(inplace=True)\n",
        "df_categories.dropna(inplace=True)\n",
        "df_items.dropna(inplace=True)\n",
        "\n",
        "print(df_prices.isnull().sum())\n",
        "print(df_shop.isnull().sum())\n",
        "print(df_categories.isnull().sum())\n",
        "print(df_items.isnull().sum())"
      ],
      "metadata": {
        "colab": {
          "base_uri": "https://localhost:8080/"
        },
        "id": "Q7RgDDR488BF",
        "outputId": "5dda935c-9203-490d-dce0-76aa05499911",
        "collapsed": true
      },
      "execution_count": 7,
      "outputs": [
        {
          "output_type": "stream",
          "name": "stdout",
          "text": [
            "date              0\n",
            "date_block_num    0\n",
            "shop_id           0\n",
            "item_id           0\n",
            "item_price        0\n",
            "item_cnt_day      0\n",
            "dtype: int64\n",
            "shop_name    0\n",
            "shop_id      0\n",
            "dtype: int64\n",
            "item_category_name    0\n",
            "item_category_id      0\n",
            "dtype: int64\n",
            "item_name           0\n",
            "item_id             0\n",
            "item_category_id    0\n",
            "dtype: int64\n",
            "date              0\n",
            "date_block_num    0\n",
            "shop_id           0\n",
            "item_id           0\n",
            "item_price        0\n",
            "item_cnt_day      0\n",
            "dtype: int64\n",
            "shop_name    0\n",
            "shop_id      0\n",
            "dtype: int64\n",
            "item_category_name    0\n",
            "item_category_id      0\n",
            "dtype: int64\n",
            "item_name           0\n",
            "item_id             0\n",
            "item_category_id    0\n",
            "dtype: int64\n"
          ]
        }
      ]
    },
    {
      "cell_type": "markdown",
      "source": [
        "take the 20% of the data to train the model"
      ],
      "metadata": {
        "id": "ee2hswL69bGr"
      }
    },
    {
      "cell_type": "code",
      "source": [
        "df_sampled = df_prices.sample(frac= 0.2, random_state=42)\n",
        "\n",
        "X_sampled = df_sampled[['date', 'date_block_num', 'shop_id', 'item_id', 'item_price', 'item_cnt_day']]\n",
        "y_sampled = df_sampled['item_cnt_day']\n",
        "\n",
        "print(X_sampled.head())\n",
        "print(y_sampled.head())\n",
        "\n",
        "print(df_sampled)\n",
        "print(df_sampled.head())"
      ],
      "metadata": {
        "colab": {
          "base_uri": "https://localhost:8080/"
        },
        "id": "Dk7H5bkl9qbN",
        "outputId": "03d57603-428a-49de-c010-427864fd699b",
        "collapsed": true
      },
      "execution_count": 11,
      "outputs": [
        {
          "output_type": "stream",
          "name": "stdout",
          "text": [
            "              date  date_block_num  shop_id  item_id  item_price  item_cnt_day\n",
            "2472142 2015-02-06              25       31    11208       699.0           1.0\n",
            "1044690 2013-11-21              10       31    19525       149.0           1.0\n",
            "2367559 2015-01-03              24       42    16169       299.0           1.0\n",
            "1793501 2014-07-18              18       42     2737       199.0           1.0\n",
            "1585639 2014-04-13              15        2    15229      1199.0           1.0\n",
            "2472142    1.0\n",
            "1044690    1.0\n",
            "2367559    1.0\n",
            "1793501    1.0\n",
            "1585639    1.0\n",
            "Name: item_cnt_day, dtype: float64\n",
            "              date  date_block_num  shop_id  item_id  item_price  item_cnt_day\n",
            "2472142 2015-02-06              25       31    11208       699.0           1.0\n",
            "1044690 2013-11-21              10       31    19525       149.0           1.0\n",
            "2367559 2015-01-03              24       42    16169       299.0           1.0\n",
            "1793501 2014-07-18              18       42     2737       199.0           1.0\n",
            "1585639 2014-04-13              15        2    15229      1199.0           1.0\n",
            "...            ...             ...      ...      ...         ...           ...\n",
            "1328989 2014-01-25              12       14     5821       649.0           1.0\n",
            "1272186 2014-01-12              12       54    14280       349.0           1.0\n",
            "1870026 2014-08-14              19       46     2690      2198.0           1.0\n",
            "50029   2013-01-12               0       18    15820       298.0           1.0\n",
            "2861519 2015-09-19              32        6    10661      1499.0           1.0\n",
            "\n",
            "[587170 rows x 6 columns]\n",
            "              date  date_block_num  shop_id  item_id  item_price  item_cnt_day\n",
            "2472142 2015-02-06              25       31    11208       699.0           1.0\n",
            "1044690 2013-11-21              10       31    19525       149.0           1.0\n",
            "2367559 2015-01-03              24       42    16169       299.0           1.0\n",
            "1793501 2014-07-18              18       42     2737       199.0           1.0\n",
            "1585639 2014-04-13              15        2    15229      1199.0           1.0\n"
          ]
        }
      ]
    },
    {
      "cell_type": "markdown",
      "source": [
        "Split the data in to a train data and test data, using sklearn"
      ],
      "metadata": {
        "id": "BFDR60ie_a1T"
      }
    },
    {
      "cell_type": "code",
      "source": [
        "from sklearn.model_selection import train_test_split\n",
        "\n",
        "X_train, X_test, y_train, y_test = train_test_split(X_sampled, y_sampled, test_size=0.2, random_state=42)\n",
        "\n",
        "print(X_train.shape)\n",
        "print(X_test.shape)\n",
        "print(y_train.shape)\n",
        "print(y_test.shape)"
      ],
      "metadata": {
        "colab": {
          "base_uri": "https://localhost:8080/"
        },
        "id": "Q2g4niVG_jKG",
        "outputId": "80387531-adfe-460c-9bbd-344fb200f7fd"
      },
      "execution_count": 13,
      "outputs": [
        {
          "output_type": "stream",
          "name": "stdout",
          "text": [
            "(469736, 6)\n",
            "(117434, 6)\n",
            "(469736,)\n",
            "(117434,)\n"
          ]
        }
      ]
    },
    {
      "cell_type": "markdown",
      "source": [
        "Normalize the data, using sklearn and StandardScaler and print the first 10 to verify"
      ],
      "metadata": {
        "id": "y-4Xnr_VAIrH"
      }
    },
    {
      "cell_type": "code",
      "source": [
        "from sklearn.preprocessing import StandardScaler\n",
        "\n",
        "scaler = StandardScaler()\n",
        "X_train_scaled = scaler.fit_transform(X_train.drop(columns=['date'], axis=1))\n",
        "X_test_scaled = scaler.transform(X_test.drop(columns=['date'], axis=1))\n",
        "\n",
        "\n",
        "\n",
        "print(X_train_scaled[:10])\n",
        "print(X_test_scaled[:10])"
      ],
      "metadata": {
        "colab": {
          "base_uri": "https://localhost:8080/"
        },
        "id": "cjNZZJzDAKj-",
        "outputId": "a971ffef-d573-454a-88d1-28e0a1bdb5dc",
        "collapsed": true
      },
      "execution_count": 15,
      "outputs": [
        {
          "output_type": "stream",
          "name": "stdout",
          "text": [
            "[[-4.86144396e-01  1.60330675e+00  1.70195693e+00 -5.12483091e-01\n",
            "   3.40725112e+00]\n",
            " [ 1.10484456e+00  1.54159369e+00  3.16952278e-01 -2.27754562e-01\n",
            "  -1.05860172e-01]\n",
            " [-2.74012535e-01  2.45619505e-01 -1.02850342e+00  2.79485373e-03\n",
            "  -1.05860172e-01]\n",
            " [ 1.74124014e+00 -6.80076344e-01  1.70195693e+00 -5.12483091e-01\n",
            "   1.65069547e+00]\n",
            " [-9.10408118e-01 -1.11206774e+00  7.18611538e-01 -4.29485301e-01\n",
            "  -1.05860172e-01]\n",
            " [-1.12253998e+00 -5.56650230e-01 -9.41179308e-01 -2.27466375e-01\n",
            "  -1.05860172e-01]\n",
            " [ 5.74514909e-01 -3.71511061e-01  5.57709315e-02 -4.58880352e-01\n",
            "  -1.05860172e-01]\n",
            " [ 7.86646769e-01  1.17131535e+00 -1.05160001e+00 -3.42741083e-01\n",
            "  -1.05860172e-01]\n",
            " [-8.04342187e-01 -1.60577219e+00  3.82445359e-01 -2.85391916e-01\n",
            "  -1.05860172e-01]\n",
            " [ 1.50251187e-01  6.15897844e-01 -4.92852272e-01  8.67355164e-01\n",
            "  -1.05860172e-01]]\n",
            "[[-0.06188067 -0.12465883  0.6285981  -0.34302927 -0.10586017]\n",
            " [-1.01647405  1.29474147 -1.38934815 -0.14129853 -0.10586017]\n",
            " [-0.69827626  1.1096023   1.18908599 -0.09230678 -0.10586017]\n",
            " [-0.1679466  -0.309798    0.77935874 -0.41738146 -0.10586017]\n",
            " [-0.4861444   1.60330675  1.52857428 -0.40066662 -0.10586017]\n",
            " [ 0.68058084  1.23302841  0.77081617 -0.25674615 -0.10586017]\n",
            " [-0.38007847  1.29474147  1.0933775  -0.34302927 -0.10586017]\n",
            " [-0.38007847 -0.55665023 -0.94007194  0.34861898 -0.10586017]\n",
            " [ 0.8927127  -0.12465883 -0.39698559 -0.45830398 -0.10586017]\n",
            " [-0.06188067 -0.309798   -0.71606661  0.68925574 -0.10586017]]\n"
          ]
        }
      ]
    },
    {
      "cell_type": "markdown",
      "source": [
        "Create the model using tensor flow with and optimizer Adam and regularization L2"
      ],
      "metadata": {
        "id": "NX3o1Mw4AmiM"
      }
    },
    {
      "cell_type": "code",
      "source": [
        "from tensorflow.keras.regularizers import l2\n",
        "\n",
        "def create_model(input_dim):\n",
        "  model = Sequential()\n",
        "\n",
        "  model.add(Dense(64, activation='relu', input_dim=input_dim, kernel_regularizer=l2(0.01)))\n",
        "  model.add(Dense(32, activation='relu', kernel_regularizer=l2(0.01)))\n",
        "  model.add(Dense(1, activation='linear'))\n",
        "\n",
        "  optimizer = Adam(learning_rate=0.001)\n",
        "  model.compile(optimizer=optimizer, loss='mean_squared_error')\n",
        "  return model\n",
        "\n",
        "model = create_model(X_train_scaled.shape[1])\n",
        "model.summary()"
      ],
      "metadata": {
        "colab": {
          "base_uri": "https://localhost:8080/"
        },
        "id": "sTP6DCO-Sxrt",
        "outputId": "3aba2efc-5fd9-46bd-ec20-0710d025baa5"
      },
      "execution_count": 20,
      "outputs": [
        {
          "output_type": "stream",
          "name": "stdout",
          "text": [
            "Model: \"sequential_2\"\n",
            "_________________________________________________________________\n",
            " Layer (type)                Output Shape              Param #   \n",
            "=================================================================\n",
            " dense_8 (Dense)             (None, 64)                384       \n",
            "                                                                 \n",
            " dense_9 (Dense)             (None, 32)                2080      \n",
            "                                                                 \n",
            " dense_10 (Dense)            (None, 1)                 33        \n",
            "                                                                 \n",
            "=================================================================\n",
            "Total params: 2497 (9.75 KB)\n",
            "Trainable params: 2497 (9.75 KB)\n",
            "Non-trainable params: 0 (0.00 Byte)\n",
            "_________________________________________________________________\n"
          ]
        }
      ]
    },
    {
      "cell_type": "markdown",
      "source": [
        "Train and evaluate the model"
      ],
      "metadata": {
        "id": "zZFUUK2tTf2G"
      }
    },
    {
      "cell_type": "code",
      "source": [
        "history = model.fit(X_train_scaled, y_train, epochs=50, batch_size=32, validation_data=(X_test_scaled, y_test))\n",
        "\n",
        "train_loss = model.evaluate(X_train_scaled, y_train)\n",
        "test_loss = model.evaluate(X_test_scaled, y_test)\n",
        "\n",
        "print(\"Train Loss:\", train_loss)\n",
        "print(\"Test Loss:\", test_loss)\n",
        "\n",
        "from sklearn.metrics import mean_squared_error\n",
        "\n",
        "train_mse = mean_squared_error(y_train, model.predict(X_train_scaled))\n",
        "test_mse = mean_squared_error(y_test, model.predict(X_test_scaled))\n",
        "\n"
      ],
      "metadata": {
        "colab": {
          "base_uri": "https://localhost:8080/"
        },
        "id": "0XrlBmqVTip5",
        "outputId": "4ecd8ca7-d525-47ac-a543-392163300949",
        "collapsed": true
      },
      "execution_count": 21,
      "outputs": [
        {
          "output_type": "stream",
          "name": "stdout",
          "text": [
            "Epoch 1/50\n",
            "14680/14680 [==============================] - 40s 3ms/step - loss: 0.1180 - val_loss: 0.0358\n",
            "Epoch 2/50\n",
            "14680/14680 [==============================] - 40s 3ms/step - loss: 0.0305 - val_loss: 0.0210\n",
            "Epoch 3/50\n",
            "14680/14680 [==============================] - 45s 3ms/step - loss: 0.0335 - val_loss: 0.0181\n",
            "Epoch 4/50\n",
            "14680/14680 [==============================] - 43s 3ms/step - loss: 0.0263 - val_loss: 0.0162\n",
            "Epoch 5/50\n",
            "14680/14680 [==============================] - 38s 3ms/step - loss: 0.0239 - val_loss: 0.0139\n",
            "Epoch 6/50\n",
            "14680/14680 [==============================] - 41s 3ms/step - loss: 0.0214 - val_loss: 0.0123\n",
            "Epoch 7/50\n",
            "14680/14680 [==============================] - 38s 3ms/step - loss: 0.0650 - val_loss: 0.0116\n",
            "Epoch 8/50\n",
            "14680/14680 [==============================] - 38s 3ms/step - loss: 0.0260 - val_loss: 0.0152\n",
            "Epoch 9/50\n",
            "14680/14680 [==============================] - 43s 3ms/step - loss: 0.0174 - val_loss: 0.0137\n",
            "Epoch 10/50\n",
            "14680/14680 [==============================] - 37s 3ms/step - loss: 0.0185 - val_loss: 0.0091\n",
            "Epoch 11/50\n",
            "14680/14680 [==============================] - 40s 3ms/step - loss: 0.0317 - val_loss: 0.0165\n",
            "Epoch 12/50\n",
            "14680/14680 [==============================] - 39s 3ms/step - loss: 0.0134 - val_loss: 0.0082\n",
            "Epoch 13/50\n",
            "14680/14680 [==============================] - 37s 3ms/step - loss: 0.0144 - val_loss: 0.0079\n",
            "Epoch 14/50\n",
            "14680/14680 [==============================] - 38s 3ms/step - loss: 0.0240 - val_loss: 0.0092\n",
            "Epoch 15/50\n",
            "14680/14680 [==============================] - 43s 3ms/step - loss: 0.0122 - val_loss: 0.4055\n",
            "Epoch 16/50\n",
            "14680/14680 [==============================] - 37s 3ms/step - loss: 0.0340 - val_loss: 0.0075\n",
            "Epoch 17/50\n",
            "14680/14680 [==============================] - 37s 3ms/step - loss: 0.0136 - val_loss: 0.0079\n",
            "Epoch 18/50\n",
            "14680/14680 [==============================] - 37s 3ms/step - loss: 0.0702 - val_loss: 0.0066\n",
            "Epoch 19/50\n",
            "14680/14680 [==============================] - 38s 3ms/step - loss: 0.0128 - val_loss: 0.0082\n",
            "Epoch 20/50\n",
            "14680/14680 [==============================] - 43s 3ms/step - loss: 0.0146 - val_loss: 0.0064\n",
            "Epoch 21/50\n",
            "14680/14680 [==============================] - 43s 3ms/step - loss: 0.0130 - val_loss: 0.0096\n",
            "Epoch 22/50\n",
            "14680/14680 [==============================] - 37s 3ms/step - loss: 0.0115 - val_loss: 0.0086\n",
            "Epoch 23/50\n",
            "14680/14680 [==============================] - 39s 3ms/step - loss: 0.0108 - val_loss: 0.3150\n",
            "Epoch 24/50\n",
            "14680/14680 [==============================] - 37s 3ms/step - loss: 0.0129 - val_loss: 0.0058\n",
            "Epoch 25/50\n",
            "14680/14680 [==============================] - 39s 3ms/step - loss: 0.0101 - val_loss: 0.0054\n",
            "Epoch 26/50\n",
            "14680/14680 [==============================] - 37s 2ms/step - loss: 0.0157 - val_loss: 0.0082\n",
            "Epoch 27/50\n",
            "14680/14680 [==============================] - 38s 3ms/step - loss: 0.0147 - val_loss: 0.0074\n",
            "Epoch 28/50\n",
            "14680/14680 [==============================] - 43s 3ms/step - loss: 0.0234 - val_loss: 0.0067\n",
            "Epoch 29/50\n",
            "14680/14680 [==============================] - 38s 3ms/step - loss: 0.0126 - val_loss: 0.0058\n",
            "Epoch 30/50\n",
            "14680/14680 [==============================] - 39s 3ms/step - loss: 0.0124 - val_loss: 0.0048\n",
            "Epoch 31/50\n",
            "14680/14680 [==============================] - 43s 3ms/step - loss: 0.0292 - val_loss: 0.0059\n",
            "Epoch 32/50\n",
            "14680/14680 [==============================] - 37s 3ms/step - loss: 0.0118 - val_loss: 0.0074\n",
            "Epoch 33/50\n",
            "14680/14680 [==============================] - 39s 3ms/step - loss: 0.0071 - val_loss: 0.0047\n",
            "Epoch 34/50\n",
            "14680/14680 [==============================] - 43s 3ms/step - loss: 0.0209 - val_loss: 0.0045\n",
            "Epoch 35/50\n",
            "14680/14680 [==============================] - 45s 3ms/step - loss: 0.0118 - val_loss: 0.0050\n",
            "Epoch 36/50\n",
            "14680/14680 [==============================] - 38s 3ms/step - loss: 0.0520 - val_loss: 0.0047\n",
            "Epoch 37/50\n",
            "14680/14680 [==============================] - 38s 3ms/step - loss: 0.0102 - val_loss: 0.0049\n",
            "Epoch 38/50\n",
            "14680/14680 [==============================] - 42s 3ms/step - loss: 0.0089 - val_loss: 0.0044\n",
            "Epoch 39/50\n",
            "14680/14680 [==============================] - 37s 3ms/step - loss: 0.0211 - val_loss: 0.0043\n",
            "Epoch 40/50\n",
            "14680/14680 [==============================] - 40s 3ms/step - loss: 0.0159 - val_loss: 0.0049\n",
            "Epoch 41/50\n",
            "14680/14680 [==============================] - 42s 3ms/step - loss: 0.0090 - val_loss: 0.0049\n",
            "Epoch 42/50\n",
            "14680/14680 [==============================] - 38s 3ms/step - loss: 0.0122 - val_loss: 0.0051\n",
            "Epoch 43/50\n",
            "14680/14680 [==============================] - 38s 3ms/step - loss: 0.0088 - val_loss: 0.0043\n",
            "Epoch 44/50\n",
            "14680/14680 [==============================] - 43s 3ms/step - loss: 0.0108 - val_loss: 0.0041\n",
            "Epoch 45/50\n",
            "14680/14680 [==============================] - 41s 3ms/step - loss: 0.0113 - val_loss: 0.0380\n",
            "Epoch 46/50\n",
            "14680/14680 [==============================] - 38s 3ms/step - loss: 0.0093 - val_loss: 0.0051\n",
            "Epoch 47/50\n",
            "14680/14680 [==============================] - 39s 3ms/step - loss: 0.0196 - val_loss: 0.0072\n",
            "Epoch 48/50\n",
            "14680/14680 [==============================] - 43s 3ms/step - loss: 0.0093 - val_loss: 0.0038\n",
            "Epoch 49/50\n",
            "14680/14680 [==============================] - 43s 3ms/step - loss: 0.0103 - val_loss: 0.0038\n",
            "Epoch 50/50\n",
            "14680/14680 [==============================] - 37s 2ms/step - loss: 0.0097 - val_loss: 0.0062\n",
            "14680/14680 [==============================] - 27s 2ms/step - loss: 0.0078\n",
            "3670/3670 [==============================] - 7s 2ms/step - loss: 0.0062\n",
            "Train Loss: 0.007799034938216209\n",
            "Test Loss: 0.006167561747133732\n",
            "14680/14680 [==============================] - 25s 2ms/step\n",
            "3670/3670 [==============================] - 6s 1ms/step\n"
          ]
        }
      ]
    },
    {
      "cell_type": "code",
      "source": [
        "print(\"Train MSE:\", train_mse)\n",
        "print(\"Test MSE:\", test_mse)\n",
        "\n",
        "plt.plot(history.history['loss'], label='Train loss')\n",
        "plt.plot(history.history['val_loss'], label='Validation loss')\n",
        "plt.xlabel('Epoch')\n",
        "plt.ylabel('Loss')\n",
        "plt.legend()\n",
        "plt.show"
      ],
      "metadata": {
        "colab": {
          "base_uri": "https://localhost:8080/",
          "height": 653
        },
        "id": "1eru_HhpSHRM",
        "outputId": "baab7bce-03ff-48e0-be2c-a85b33601ff5",
        "collapsed": true
      },
      "execution_count": 22,
      "outputs": [
        {
          "output_type": "stream",
          "name": "stdout",
          "text": [
            "Train MSE: 0.0031092140863734205\n",
            "Test MSE: 0.0014777200007619184\n"
          ]
        },
        {
          "output_type": "execute_result",
          "data": {
            "text/plain": [
              "<function matplotlib.pyplot.show(close=None, block=None)>"
            ],
            "text/html": [
              "<div style=\"max-width:800px; border: 1px solid var(--colab-border-color);\"><style>\n",
              "      pre.function-repr-contents {\n",
              "        overflow-x: auto;\n",
              "        padding: 8px 12px;\n",
              "        max-height: 500px;\n",
              "      }\n",
              "\n",
              "      pre.function-repr-contents.function-repr-contents-collapsed {\n",
              "        cursor: pointer;\n",
              "        max-height: 100px;\n",
              "      }\n",
              "    </style>\n",
              "    <pre style=\"white-space: initial; background:\n",
              "         var(--colab-secondary-surface-color); padding: 8px 12px;\n",
              "         border-bottom: 1px solid var(--colab-border-color);\"><b>matplotlib.pyplot.show</b><br/>def show(*args, **kwargs)</pre><pre class=\"function-repr-contents function-repr-contents-collapsed\" style=\"\"><a class=\"filepath\" style=\"display:none\" href=\"#\">/usr/local/lib/python3.10/dist-packages/matplotlib/pyplot.py</a>Display all open figures.\n",
              "\n",
              "Parameters\n",
              "----------\n",
              "block : bool, optional\n",
              "    Whether to wait for all figures to be closed before returning.\n",
              "\n",
              "    If `True` block and run the GUI main loop until all figure windows\n",
              "    are closed.\n",
              "\n",
              "    If `False` ensure that all figure windows are displayed and return\n",
              "    immediately.  In this case, you are responsible for ensuring\n",
              "    that the event loop is running to have responsive figures.\n",
              "\n",
              "    Defaults to True in non-interactive mode and to False in interactive\n",
              "    mode (see `.pyplot.isinteractive`).\n",
              "\n",
              "See Also\n",
              "--------\n",
              "ion : Enable interactive mode, which shows / updates the figure after\n",
              "      every plotting command, so that calling ``show()`` is not necessary.\n",
              "ioff : Disable interactive mode.\n",
              "savefig : Save the figure to an image file instead of showing it on screen.\n",
              "\n",
              "Notes\n",
              "-----\n",
              "**Saving figures to file and showing a window at the same time**\n",
              "\n",
              "If you want an image file as well as a user interface window, use\n",
              "`.pyplot.savefig` before `.pyplot.show`. At the end of (a blocking)\n",
              "``show()`` the figure is closed and thus unregistered from pyplot. Calling\n",
              "`.pyplot.savefig` afterwards would save a new and thus empty figure. This\n",
              "limitation of command order does not apply if the show is non-blocking or\n",
              "if you keep a reference to the figure and use `.Figure.savefig`.\n",
              "\n",
              "**Auto-show in jupyter notebooks**\n",
              "\n",
              "The jupyter backends (activated via ``%matplotlib inline``,\n",
              "``%matplotlib notebook``, or ``%matplotlib widget``), call ``show()`` at\n",
              "the end of every cell by default. Thus, you usually don&#x27;t have to call it\n",
              "explicitly there.</pre>\n",
              "      <script>\n",
              "      if (google.colab.kernel.accessAllowed && google.colab.files && google.colab.files.view) {\n",
              "        for (const element of document.querySelectorAll('.filepath')) {\n",
              "          element.style.display = 'block'\n",
              "          element.onclick = (event) => {\n",
              "            event.preventDefault();\n",
              "            event.stopPropagation();\n",
              "            google.colab.files.view(element.textContent, 401);\n",
              "          };\n",
              "        }\n",
              "      }\n",
              "      for (const element of document.querySelectorAll('.function-repr-contents')) {\n",
              "        element.onclick = (event) => {\n",
              "          event.preventDefault();\n",
              "          event.stopPropagation();\n",
              "          element.classList.toggle('function-repr-contents-collapsed');\n",
              "        };\n",
              "      }\n",
              "      </script>\n",
              "      </div>"
            ]
          },
          "metadata": {},
          "execution_count": 22
        },
        {
          "output_type": "display_data",
          "data": {
            "text/plain": [
              "<Figure size 640x480 with 1 Axes>"
            ],
            "image/png": "[encoded data removed]"
          },
          "metadata": {}
        }
      ]
    },
    {
      "cell_type": "markdown",
      "source": [
        "Evaluate the model"
      ],
      "metadata": {
        "id": "pGnMS35V9Mgf"
      }
    },
    {
      "cell_type": "code",
      "source": [
        "from sklearn.metrics import mean_squared_error\n",
        "\n",
        "mse = mean_squared_error(y_test, model.predict(X_test_scaled))\n",
        "loss = model.evaluate(X_test_scaled, y_test)\n",
        "print(\"Test Loss:\", loss)\n",
        "print(\"Test MSE:\", mse)"
      ],
      "metadata": {
        "colab": {
          "base_uri": "https://localhost:8080/"
        },
        "id": "-UWSxH2i9MAF",
        "outputId": "b5cd4399-3549-4394-92ea-04ef2af46206"
      },
      "execution_count": 24,
      "outputs": [
        {
          "output_type": "stream",
          "name": "stdout",
          "text": [
            "3670/3670 [==============================] - 9s 2ms/step\n",
            "3670/3670 [==============================] - 6s 2ms/step - loss: 0.0062\n",
            "Test Loss: 0.006167561747133732\n",
            "Test MSE: 0.0014777200007619184\n"
          ]
        }
      ]
    },
    {
      "cell_type": "markdown",
      "source": [
        "Calculate MSE and R2"
      ],
      "metadata": {
        "id": "Y1zP6W6C91Eo"
      }
    },
    {
      "cell_type": "code",
      "source": [
        "y_pred = model.predict(X_test_scaled)\n",
        "\n",
        "from sklearn.metrics import mean_squared_error, r2_score\n",
        "\n",
        "mse = mean_squared_error(y_test, y_pred)\n",
        "r2 = r2_score(y_test, y_pred)\n",
        "\n",
        "print(\"Mean Squared Error (MSE):\", mse)\n",
        "print(\"R-squared (R2):\", r2)"
      ],
      "metadata": {
        "colab": {
          "base_uri": "https://localhost:8080/"
        },
        "id": "0AwfFyyv96Ws",
        "outputId": "5b728a79-a1df-4632-e34f-547bd174bafb"
      },
      "execution_count": 27,
      "outputs": [
        {
          "output_type": "stream",
          "name": "stdout",
          "text": [
            "3670/3670 [==============================] - 13s 3ms/step\n",
            "Mean Squared Error (MSE): 0.0014777200007619184\n",
            "R-squared (R2): 0.9994333748275344\n"
          ]
        }
      ]
    },
    {
      "cell_type": "markdown",
      "source": [
        "Now we need to add the month sales"
      ],
      "metadata": {
        "id": "-5gcLqPA_hnL"
      }
    },
    {
      "cell_type": "code",
      "source": [
        "from functools import total_ordering\n",
        "X_test['ID'] = df_test['ID']\n",
        "\n",
        "\n",
        "predictions_df = pd.DataFrame({'ID': X_test['ID'], 'item_cnt_month': y_pred.flatten()})\n",
        "\n",
        "\n",
        "total_sales = predictions_df.groupby('ID')['item_cnt_month'].sum().reset_index()\n",
        "\n",
        "print(predictions_df.head())"
      ],
      "metadata": {
        "colab": {
          "base_uri": "https://localhost:8080/"
        },
        "id": "0VtUnFCW_2g3",
        "outputId": "4b3c7268-f643-434e-8d57-88f8f857bb7f"
      },
      "execution_count": 28,
      "outputs": [
        {
          "output_type": "stream",
          "name": "stdout",
          "text": [
            "         ID  item_cnt_month\n",
            "1508896 NaN        0.989336\n",
            "624931  NaN        0.994096\n",
            "838749  NaN        0.988367\n",
            "1371498 NaN        0.988617\n",
            "1100182 NaN        0.987562\n"
          ]
        }
      ]
    },
    {
      "cell_type": "markdown",
      "source": [
        "we need to create a new DataFrame with the 2 data columns"
      ],
      "metadata": {
        "id": "Yjkh3k9wAeWZ"
      }
    },
    {
      "cell_type": "code",
      "source": [
        "total_sales = total_sales.rename(columns={'item_cnt_month': 'item_cnt_month'})\n",
        "print(total_sales.head())"
      ],
      "metadata": {
        "colab": {
          "base_uri": "https://localhost:8080/"
        },
        "id": "kGUpE8KYAoHu",
        "outputId": "754d6aae-c5c0-406a-e9a2-cfd558452d7a"
      },
      "execution_count": 31,
      "outputs": [
        {
          "output_type": "stream",
          "name": "stdout",
          "text": [
            "     ID  item_cnt_month_total\n",
            "0   5.0              0.991706\n",
            "1   9.0              3.038932\n",
            "2  11.0              0.991755\n",
            "3  12.0              0.991755\n",
            "4  54.0              0.992091\n"
          ]
        }
      ]
    },
    {
      "cell_type": "code",
      "source": [
        "total_sales.columns = ['ID', 'item_cnt_month']\n",
        "print(total_sales.head())"
      ],
      "metadata": {
        "colab": {
          "base_uri": "https://localhost:8080/"
        },
        "id": "dqDd3ro6Bh2V",
        "outputId": "73351968-a4fb-416b-f078-efde58158bf3"
      },
      "execution_count": 32,
      "outputs": [
        {
          "output_type": "stream",
          "name": "stdout",
          "text": [
            "     ID  item_cnt_month\n",
            "0   5.0        0.991706\n",
            "1   9.0        3.038932\n",
            "2  11.0        0.991755\n",
            "3  12.0        0.991755\n",
            "4  54.0        0.992091\n"
          ]
        }
      ]
    },
    {
      "cell_type": "code",
      "source": [
        "print(df_test.head())\n"
      ],
      "metadata": {
        "colab": {
          "base_uri": "https://localhost:8080/"
        },
        "id": "vQzzH3ZfCswI",
        "outputId": "5d32763d-6fbf-4733-8609-ba9acd65824f"
      },
      "execution_count": 34,
      "outputs": [
        {
          "output_type": "stream",
          "name": "stdout",
          "text": [
            "   ID  shop_id  item_id\n",
            "0   0        5     5037\n",
            "1   1        5     5320\n",
            "2   2        5     5233\n",
            "3   3        5     5232\n",
            "4   4        5     5268\n"
          ]
        }
      ]
    },
    {
      "cell_type": "code",
      "source": [
        "df_test['date_block_num'] = 0\n",
        "df_test['item_cnt_day'] = 0\n",
        "df_test['item_price'] = 0\n",
        "print(df_test.head())"
      ],
      "metadata": {
        "colab": {
          "base_uri": "https://localhost:8080/"
        },
        "id": "cgNCkgcrFzYY",
        "outputId": "b722f02e-df8b-49ee-c82a-dce9fd7f9a6d"
      },
      "execution_count": 43,
      "outputs": [
        {
          "output_type": "stream",
          "name": "stdout",
          "text": [
            "   ID  shop_id  item_id  data_block_num  item_cnt_day  item_price  \\\n",
            "0   0        5     5037               0             0           0   \n",
            "1   1        5     5320               0             0           0   \n",
            "2   2        5     5233               0             0           0   \n",
            "3   3        5     5232               0             0           0   \n",
            "4   4        5     5268               0             0           0   \n",
            "\n",
            "   date_block_num  \n",
            "0               0  \n",
            "1               0  \n",
            "2               0  \n",
            "3               0  \n",
            "4               0  \n"
          ]
        }
      ]
    },
    {
      "cell_type": "code",
      "source": [
        "X_test = df_test[['shop_id', 'item_id', 'date_block_num', 'item_cnt_day', 'item_price']]\n",
        "print(X_test.head())"
      ],
      "metadata": {
        "colab": {
          "base_uri": "https://localhost:8080/"
        },
        "id": "eG6_i4GGEBPK",
        "outputId": "07dc06b5-498f-40ad-f1e9-caab7604e300"
      },
      "execution_count": 44,
      "outputs": [
        {
          "output_type": "stream",
          "name": "stdout",
          "text": [
            "   shop_id  item_id  date_block_num  item_cnt_day  item_price\n",
            "0        5     5037               0             0           0\n",
            "1        5     5320               0             0           0\n",
            "2        5     5233               0             0           0\n",
            "3        5     5232               0             0           0\n",
            "4        5     5268               0             0           0\n"
          ]
        }
      ]
    },
    {
      "cell_type": "code",
      "source": [
        "original_features = scaler.get_feature_names_out()\n",
        "print(original_features)\n",
        "\n"
      ],
      "metadata": {
        "colab": {
          "base_uri": "https://localhost:8080/"
        },
        "id": "C_3GVRzoGbgQ",
        "outputId": "fd3bb03c-bb81-4111-f119-e4a0cf7c0c40"
      },
      "execution_count": 46,
      "outputs": [
        {
          "output_type": "stream",
          "name": "stdout",
          "text": [
            "['date_block_num' 'shop_id' 'item_id' 'item_price' 'item_cnt_day']\n"
          ]
        }
      ]
    },
    {
      "cell_type": "code",
      "source": [
        "X_test = X_test[original_features]\n",
        "\n",
        "X_test_scaled = scaler.transform(X_test)"
      ],
      "metadata": {
        "id": "TwudUlR3Gpa1"
      },
      "execution_count": 47,
      "outputs": []
    },
    {
      "cell_type": "code",
      "source": [
        "X_test_scaled = scaler.transform(X_test)\n",
        "\n",
        "\n",
        "y_pred = model.predict(X_test_scaled)\n",
        "\n",
        "df_test['item_cnt_month'] = y_pred.flatten()\n",
        "\n",
        "predictions_df = df_test[['ID', 'item_cnt_month']]\n",
        "\n",
        "print(predictions_df.head())"
      ],
      "metadata": {
        "colab": {
          "base_uri": "https://localhost:8080/"
        },
        "id": "JxDKijEPEV1f",
        "outputId": "af80db47-f4a4-49c0-85bc-f650a26eeea0"
      },
      "execution_count": 48,
      "outputs": [
        {
          "output_type": "stream",
          "name": "stdout",
          "text": [
            "6694/6694 [==============================] - 11s 2ms/step\n",
            "   ID  item_cnt_month\n",
            "0   0       -0.033904\n",
            "1   1       -0.034009\n",
            "2   2       -0.033976\n",
            "3   3       -0.033977\n",
            "4   4       -0.033990\n"
          ]
        }
      ]
    },
    {
      "cell_type": "markdown",
      "source": [
        "Now Download the CSV"
      ],
      "metadata": {
        "id": "1TfVUOyEHBuj"
      }
    },
    {
      "cell_type": "code",
      "source": [
        "predictions_df.to_csv('predictions.csv', index=False)\n",
        "files.download('predictions.csv')"
      ],
      "metadata": {
        "colab": {
          "base_uri": "https://localhost:8080/",
          "height": 17
        },
        "id": "_LSgF3CpHEfG",
        "outputId": "0e860e7f-7012-42ed-e0ab-72d8f257b233"
      },
      "execution_count": 49,
      "outputs": [
        {
          "output_type": "display_data",
          "data": {
            "text/plain": [
              "<IPython.core.display.Javascript object>"
            ],
            "application/javascript": [
              "\n",
              "    async function download(id, filename, size) {\n",
              "      if (!google.colab.kernel.accessAllowed) {\n",
              "        return;\n",
              "      }\n",
              "      const div = document.createElement('div');\n",
              "      const label = document.createElement('label');\n",
              "      label.textContent = `Downloading \"${filename}\": `;\n",
              "      div.appendChild(label);\n",
              "      const progress = document.createElement('progress');\n",
              "      progress.max = size;\n",
              "      div.appendChild(progress);\n",
              "      document.body.appendChild(div);\n",
              "\n",
              "      const buffers = [];\n",
              "      let downloaded = 0;\n",
              "\n",
              "      const channel = await google.colab.kernel.comms.open(id);\n",
              "      // Send a message to notify the kernel that we're ready.\n",
              "      channel.send({})\n",
              "\n",
              "      for await (const message of channel.messages) {\n",
              "        // Send a message to notify the kernel that we're ready.\n",
              "        channel.send({})\n",
              "        if (message.buffers) {\n",
              "          for (const buffer of message.buffers) {\n",
              "            buffers.push(buffer);\n",
              "            downloaded += buffer.byteLength;\n",
              "            progress.value = downloaded;\n",
              "          }\n",
              "        }\n",
              "      }\n",
              "      const blob = new Blob(buffers, {type: 'application/binary'});\n",
              "      const a = document.createElement('a');\n",
              "      a.href = window.URL.createObjectURL(blob);\n",
              "      a.download = filename;\n",
              "      div.appendChild(a);\n",
              "      a.click();\n",
              "      div.remove();\n",
              "    }\n",
              "  "
            ]
          },
          "metadata": {}
        },
        {
          "output_type": "display_data",
          "data": {
            "text/plain": [
              "<IPython.core.display.Javascript object>"
            ],
            "application/javascript": [
              "download(\"download_c245091c-2a14-4062-956f-ae474203f84e\", \"predictions.csv\", 4085697)"
            ]
          },
          "metadata": {}
        }
      ]
    }
  ]
}